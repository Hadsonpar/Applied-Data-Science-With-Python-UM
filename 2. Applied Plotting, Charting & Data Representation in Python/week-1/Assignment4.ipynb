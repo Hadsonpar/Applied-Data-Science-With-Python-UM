{
 "cells": [
  {
   "cell_type": "code",
   "execution_count": null,
   "metadata": {},
   "outputs": [],
   "source": [
    "import pandas as pd\n",
    "import numpy as np\n",
    "import matplotlib.pyplot as plt\n",
    "import scipy.stats as st\n",
    "import matplotlib.colors as col\n",
    "import matplotlib.cm as cm\n",
    "import seaborn as sns\n",
    "import re\n",
    "\n",
    "%matplotlib notebook\n",
    "\n",
    "plt.style.use('seaborn-colorblind')"
   ]
  },
  {
   "cell_type": "code",
   "execution_count": null,
   "metadata": {},
   "outputs": [],
   "source": [
    "dict_datasets={\n",
    "    \"Tigers\":\"https://en.wikipedia.org/wiki/List_of_Detroit_Lions_seasons\",\n",
    "    \"Lions\":\"https://en.wikipedia.org/wiki/List_of_Detroit_Tigers_seasons\",\n",
    "    \"Pistons\":\"https://en.wikipedia.org/wiki/List_of_Detroit_Pistons_seasons\",\n",
    "    \"RedWings\":\"https://en.wikipedia.org/wiki/List_of_Detroit_Red_Wings_seasons\",\n",
    "}\n",
    "\n",
    "# Lions\n",
    "df_lions=pd.read_html(dict_datasets['Lions'])[1][6:92]\n",
    "\n",
    "lions=pd.DataFrame()\n",
    "lions['Year']=df_lions['NFL season']['NFL season']\n",
    "lions['Wins']=df_lions['Regular season']['Wins'].astype(int)\n",
    "lions['Losses']=df_lions['Regular season']['Losses'].astype(int)\n",
    "\n",
    "lions['Win %_Lions']=lions['Wins']/(lions['Wins']+lions['Losses'])\n",
    "\n",
    "# Tigers\n",
    "df_tigers=pd.read_html(dict_datasets['Tigers'])[3]\n",
    "\n",
    "tigers=pd.DataFrame()\n",
    "tigers[['Year','Wins','Losses']]=df_tigers[['Season','Wins','Losses']].copy()\n",
    "tigers['Year']=tigers['Year'].astype(str)\n",
    "tigers['Year']=tigers['Year'].astype(object)\n",
    "tigers['Wins']=tigers['Wins'].astype(int)\n",
    "tigers['Losses']=tigers['Losses'].astype(int)\n",
    "tigers['Win %_Tigers']=tigers['Wins']/(tigers['Wins']+tigers['Losses'])\n",
    "\n",
    "# Pistons\n",
    "df_pistons=pd.read_html(dict_datasets['Pistons'])[1][11:74]\n",
    "\n",
    "pistons=pd.DataFrame()\n",
    "pistons['Year']=df_pistons['Team Season'].str[:4]\n",
    "pistons[['Wins','Losses']]=df_pistons[['Wins','Losses']]\n",
    "pistons['Wins']=pistons['Wins'].astype(int)\n",
    "pistons['Losses']=pistons['Losses'].astype(int)\n",
    "\n",
    "pistons['Win %_Pistons']=pistons['Wins']/(pistons['Wins']+pistons['Losses'])\n",
    "\n",
    "# Red Wings\n",
    "df_redw=pd.read_html(dict_datasets['RedWings'])[2][:94]\n",
    "\n",
    "redw=pd.DataFrame()\n",
    "redw['Year']=df_redw['NHL season']['NHL season'].str[:4]\n",
    "redw[['Wins','Losses']]=df_redw['Regular season[3][6][7][8]'][['W','L']]\n",
    "redw=redw.set_index('Year')\n",
    "\n",
    "# missing 2004\n",
    "redw.loc['2004',['Wins','Losses']]=redw.loc['2003'][['Wins','Losses']]\n",
    "\n",
    "redw['Wins']=redw['Wins'].astype(int)\n",
    "redw['Losses']=redw['Losses'].astype(int)\n",
    "\n",
    "redw['Win %_RedWings']=redw['Wins']/(redw['Wins']+redw['Losses'])\n",
    "redw=redw.reset_index()\n",
    "\n",
    "# Merge data for visualize\n",
    "Big4_Michigan=pd.merge(lions.drop(['Wins','Losses'], axis=1),tigers.drop(['Wins','Losses'], axis=1),on='Year')\n",
    "Big4_Michigan=pd.merge(Big4_Michigan,pistons.drop(['Wins','Losses'], axis=1),on='Year')\n",
    "Big4_Michigan=pd.merge(Big4_Michigan,redw.drop(['Wins','Losses'], axis=1),on='Year')"
   ]
  },
  {
   "cell_type": "code",
   "execution_count": null,
   "metadata": {},
   "outputs": [],
   "source": [
    "%matplotlib notebook\n",
    "# Draw KDE\n",
    "kde=Big4_Michigan.plot.kde()\n",
    "[kde.spines[loc].set_visible(False) for loc in ['top', 'right']]\n",
    "kde.axis([0,1,0,6])\n",
    "kde.set_title('KDE of Big4 Win % in Michigan\\n(1957-2019)',alpha=0.8)\n",
    "kde.legend(['Lions','Tigers','Pistons','Red Wings'],loc = 'best',frameon=False, title='Big4', fontsize=10)"
   ]
  }
 ],
 "metadata": {
  "kernelspec": {
   "display_name": "regresionlineal",
   "language": "python",
   "name": "python3"
  },
  "language_info": {
   "codemirror_mode": {
    "name": "ipython",
    "version": 3
   },
   "file_extension": ".py",
   "mimetype": "text/x-python",
   "name": "python",
   "nbconvert_exporter": "python",
   "pygments_lexer": "ipython3",
   "version": "3.10.6"
  }
 },
 "nbformat": 4,
 "nbformat_minor": 2
}
