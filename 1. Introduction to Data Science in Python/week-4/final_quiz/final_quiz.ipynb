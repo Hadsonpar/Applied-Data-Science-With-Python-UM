{
 "cells": [
  {
   "cell_type": "markdown",
   "metadata": {},
   "source": [
    "## Final Quiz"
   ]
  },
  {
   "cell_type": "markdown",
   "metadata": {},
   "source": [
    "### Question 1\n",
    "Consider the given NumPy arrays a and b. What will be the value of c after the following code is executed?"
   ]
  },
  {
   "cell_type": "code",
   "execution_count": 1,
   "metadata": {},
   "outputs": [
    {
     "name": "stdout",
     "output_type": "stream",
     "text": [
      "46\n"
     ]
    }
   ],
   "source": [
    "import numpy as np\n",
    "\n",
    "a = np.arange(8)\n",
    "b = a[4:6]\n",
    "b[:] = 40\n",
    "c = a[4] + a[6]\n",
    "\n",
    "print (c)"
   ]
  },
  {
   "cell_type": "markdown",
   "metadata": {},
   "source": [
    "### Question 2\n",
    "Given the string s as shown below, which of the following expressions will be True?"
   ]
  },
  {
   "cell_type": "code",
   "execution_count": 2,
   "metadata": {},
   "outputs": [
    {
     "data": {
      "text/plain": [
       "True"
      ]
     },
     "execution_count": 2,
     "metadata": {},
     "output_type": "execute_result"
    }
   ],
   "source": [
    "import re\n",
    "s = 'ABCAC'\n",
    "bool(re.match('A', s)) == True"
   ]
  },
  {
   "cell_type": "markdown",
   "metadata": {},
   "source": [
    "### Question 3\n",
    "Consider a string s. We want to find all characters (other than A) which are followed by triple A, i.e., have AAA to the right. We don’t want to include the triple A in the output and just want the character immediately preceding AAA . Complete the code given below that would output the required result."
   ]
  },
  {
   "cell_type": "code",
   "execution_count": 6,
   "metadata": {},
   "outputs": [
    {
     "data": {
      "text/plain": [
       "['C', 'F', 'B']"
      ]
     },
     "execution_count": 6,
     "metadata": {},
     "output_type": "execute_result"
    }
   ],
   "source": [
    "def result():\n",
    "    s = 'ACAABAACAAABACDBADDDFSDDDFFSSSASDAFAAACBAAAFASD'\n",
    "\n",
    "    result = []\n",
    "    # compete the pattern below\n",
    "    pattern = \"(\\w)(?=[A]{3})\"            \n",
    "    for item in re.finditer(pattern, s):\n",
    "      # identify the group number below.\n",
    "      result.append(item.group())\n",
    "      \n",
    "    return result\n",
    "\n",
    "result()"
   ]
  },
  {
   "cell_type": "markdown",
   "metadata": {},
   "source": [
    "### Question 4"
   ]
  },
  {
   "cell_type": "markdown",
   "metadata": {},
   "source": [
    "![file](quiz4_q4.png)"
   ]
  },
  {
   "cell_type": "markdown",
   "metadata": {},
   "source": [
    "Consider the following 4 expressions regarding the above pandas Series df. All of them have the same value except one expression. Can you identify which one it is?"
   ]
  },
  {
   "cell_type": "code",
   "execution_count": 9,
   "metadata": {},
   "outputs": [
    {
     "data": {
      "text/plain": [
       "'d'"
      ]
     },
     "execution_count": 9,
     "metadata": {},
     "output_type": "execute_result"
    }
   ],
   "source": [
    "import pandas as pd\n",
    "df=pd.Series({'d':4,'b':7,'a':-5,'c':3})\n",
    "#df #ok\n",
    "df.index[0]"
   ]
  },
  {
   "cell_type": "markdown",
   "metadata": {},
   "source": [
    "### Question 5"
   ]
  },
  {
   "cell_type": "markdown",
   "metadata": {},
   "source": [
    "![file](quiz4_q5.png)"
   ]
  },
  {
   "cell_type": "markdown",
   "metadata": {},
   "source": [
    "Consider the two pandas Series objects shown above, representing the no. of items of different yogurt flavors that were sold in a day from two different stores, s1 and s2. Which of the following statements is True regarding the Series s3 defined below?"
   ]
  },
  {
   "cell_type": "code",
   "execution_count": 12,
   "metadata": {},
   "outputs": [
    {
     "data": {
      "text/plain": [
       "True"
      ]
     },
     "execution_count": 12,
     "metadata": {},
     "output_type": "execute_result"
    }
   ],
   "source": [
    "s1=pd.Series({\n",
    "    'Mango':20,\n",
    "    'Strawberry':15,\n",
    "    'Blueberry':18,\n",
    "    'Vanilla':31\n",
    "})\n",
    "\n",
    "s2=pd.Series({\n",
    "    'Mango':20,\n",
    "    'Strawberry':20,\n",
    "    'Vanilla':30,\n",
    "    'Banana':15,\n",
    "    'Plain':20\n",
    "})\n",
    "\n",
    "s3 = s1.add(s2)\n",
    "s3['Mango'] >=  s1.add(s2, fill_value = 0)['Mango']"
   ]
  },
  {
   "cell_type": "markdown",
   "metadata": {},
   "source": [
    "### Question 6\n",
    "In the following list of statements regarding a DataFrame df, one or more statements are correct. Can you identify all the correct statements?\n"
   ]
  },
  {
   "cell_type": "markdown",
   "metadata": {},
   "source": [
    "\n",
    "- &#9745; Every time we call df.set_index(), the old index will be discarded.\n",
    "- &#9744; Every time we call df.set_index(), the old index will be set as a new column.\n",
    "- &#9744; Every time we call df.reset_index(), the old index will be discarded.\n",
    "- &#9745; Every time we call df.reset_index(), the old index will be set as a new column."
   ]
  },
  {
   "cell_type": "markdown",
   "metadata": {},
   "source": [
    "### Question 7\n",
    "Consider the Series object S defined below. Which of the following is an incorrect way to slice S such that we obtain all data points corresponding to the indices 'b', 'c', and 'd'?"
   ]
  },
  {
   "cell_type": "code",
   "execution_count": 13,
   "metadata": {},
   "outputs": [
    {
     "data": {
      "text/plain": [
       "b    1\n",
       "c    2\n",
       "d    3\n",
       "e    4\n",
       "dtype: int32"
      ]
     },
     "execution_count": 13,
     "metadata": {},
     "output_type": "execute_result"
    }
   ],
   "source": [
    "S = pd.Series(np.arange(5), index=['a', 'b', 'c', 'd', 'e'])\n",
    "S['b':'e']"
   ]
  },
  {
   "cell_type": "markdown",
   "metadata": {},
   "source": [
    "### Question 8"
   ]
  },
  {
   "cell_type": "markdown",
   "metadata": {},
   "source": [
    "![file](quiz4_q8.png)"
   ]
  },
  {
   "cell_type": "markdown",
   "metadata": {},
   "source": [
    "Consider the DataFrame df shown above with indexes 'R1', 'R2', 'R3', and 'R4'.  In the following code, a new DataFrame df_new is created using df. What will be the value of df_new[1] after the below code is executed?"
   ]
  },
  {
   "cell_type": "code",
   "execution_count": 15,
   "metadata": {},
   "outputs": [
    {
     "data": {
      "text/plain": [
       "88"
      ]
     },
     "execution_count": 15,
     "metadata": {},
     "output_type": "execute_result"
    }
   ],
   "source": [
    "df = pd.DataFrame([\n",
    "    {'a':5,'b':6,'c':20},\n",
    "    {'a':5,'b':82,'c':28},\n",
    "    {'a':71,'b':31,'c':92},\n",
    "    {'a':67,'b':37,'c':49}], \n",
    "    index=['R1', 'R2', 'R3','R4'])\n",
    "df\n",
    "\n",
    "f = lambda x: x.max() + x.min()\n",
    "df_new = df.apply(f)\n",
    "df_new[1]"
   ]
  },
  {
   "cell_type": "markdown",
   "metadata": {},
   "source": [
    "### Question 9"
   ]
  },
  {
   "cell_type": "markdown",
   "metadata": {},
   "source": [
    "![file](quiz4_q9.1.png)"
   ]
  },
  {
   "cell_type": "markdown",
   "metadata": {},
   "source": [
    "Consider the DataFrame named new_df shown above. Which of the following expressions will output the result (showing the head of a DataFrame) below? "
   ]
  },
  {
   "cell_type": "markdown",
   "metadata": {},
   "source": [
    "![file](quiz4_q9.2.jpg)"
   ]
  },
  {
   "cell_type": "code",
   "execution_count": 21,
   "metadata": {},
   "outputs": [
    {
     "data": {
      "text/html": [
       "<div>\n",
       "<style scoped>\n",
       "    .dataframe tbody tr th:only-of-type {\n",
       "        vertical-align: middle;\n",
       "    }\n",
       "\n",
       "    .dataframe tbody tr th {\n",
       "        vertical-align: top;\n",
       "    }\n",
       "\n",
       "    .dataframe thead th {\n",
       "        text-align: right;\n",
       "    }\n",
       "</style>\n",
       "<table border=\"1\" class=\"dataframe\">\n",
       "  <thead>\n",
       "    <tr style=\"text-align: right;\">\n",
       "      <th></th>\n",
       "      <th>world_rank</th>\n",
       "      <th>institution</th>\n",
       "      <th>country</th>\n",
       "      <th>national_rank</th>\n",
       "      <th>quality_of_education</th>\n",
       "      <th>alumni_employment</th>\n",
       "      <th>quality_of_faculty</th>\n",
       "      <th>publications</th>\n",
       "      <th>influence</th>\n",
       "      <th>citations</th>\n",
       "      <th>broad_impact</th>\n",
       "      <th>patents</th>\n",
       "      <th>score</th>\n",
       "      <th>year</th>\n",
       "    </tr>\n",
       "  </thead>\n",
       "  <tbody>\n",
       "    <tr>\n",
       "      <th>0</th>\n",
       "      <td>1</td>\n",
       "      <td>Harvard University</td>\n",
       "      <td>USA</td>\n",
       "      <td>1</td>\n",
       "      <td>7</td>\n",
       "      <td>9</td>\n",
       "      <td>1</td>\n",
       "      <td>1</td>\n",
       "      <td>1</td>\n",
       "      <td>1</td>\n",
       "      <td>NaN</td>\n",
       "      <td>5</td>\n",
       "      <td>100.00</td>\n",
       "      <td>2012</td>\n",
       "    </tr>\n",
       "    <tr>\n",
       "      <th>1</th>\n",
       "      <td>2</td>\n",
       "      <td>Massachusetts Institute of Technology</td>\n",
       "      <td>USA</td>\n",
       "      <td>2</td>\n",
       "      <td>9</td>\n",
       "      <td>17</td>\n",
       "      <td>3</td>\n",
       "      <td>12</td>\n",
       "      <td>4</td>\n",
       "      <td>4</td>\n",
       "      <td>NaN</td>\n",
       "      <td>1</td>\n",
       "      <td>91.67</td>\n",
       "      <td>2012</td>\n",
       "    </tr>\n",
       "    <tr>\n",
       "      <th>2</th>\n",
       "      <td>3</td>\n",
       "      <td>Stanford University</td>\n",
       "      <td>USA</td>\n",
       "      <td>3</td>\n",
       "      <td>17</td>\n",
       "      <td>11</td>\n",
       "      <td>5</td>\n",
       "      <td>4</td>\n",
       "      <td>2</td>\n",
       "      <td>2</td>\n",
       "      <td>NaN</td>\n",
       "      <td>15</td>\n",
       "      <td>89.50</td>\n",
       "      <td>2012</td>\n",
       "    </tr>\n",
       "    <tr>\n",
       "      <th>3</th>\n",
       "      <td>4</td>\n",
       "      <td>University of Cambridge</td>\n",
       "      <td>United Kingdom</td>\n",
       "      <td>1</td>\n",
       "      <td>10</td>\n",
       "      <td>24</td>\n",
       "      <td>4</td>\n",
       "      <td>16</td>\n",
       "      <td>16</td>\n",
       "      <td>11</td>\n",
       "      <td>NaN</td>\n",
       "      <td>50</td>\n",
       "      <td>86.17</td>\n",
       "      <td>2012</td>\n",
       "    </tr>\n",
       "    <tr>\n",
       "      <th>4</th>\n",
       "      <td>5</td>\n",
       "      <td>California Institute of Technology</td>\n",
       "      <td>USA</td>\n",
       "      <td>4</td>\n",
       "      <td>2</td>\n",
       "      <td>29</td>\n",
       "      <td>7</td>\n",
       "      <td>37</td>\n",
       "      <td>22</td>\n",
       "      <td>22</td>\n",
       "      <td>NaN</td>\n",
       "      <td>18</td>\n",
       "      <td>85.21</td>\n",
       "      <td>2012</td>\n",
       "    </tr>\n",
       "  </tbody>\n",
       "</table>\n",
       "</div>"
      ],
      "text/plain": [
       "   world_rank                            institution         country  \\\n",
       "0           1                     Harvard University             USA   \n",
       "1           2  Massachusetts Institute of Technology             USA   \n",
       "2           3                    Stanford University             USA   \n",
       "3           4                University of Cambridge  United Kingdom   \n",
       "4           5     California Institute of Technology             USA   \n",
       "\n",
       "   national_rank  quality_of_education  alumni_employment  quality_of_faculty  \\\n",
       "0              1                     7                  9                   1   \n",
       "1              2                     9                 17                   3   \n",
       "2              3                    17                 11                   5   \n",
       "3              1                    10                 24                   4   \n",
       "4              4                     2                 29                   7   \n",
       "\n",
       "   publications  influence  citations  broad_impact  patents   score  year  \n",
       "0             1          1          1           NaN        5  100.00  2012  \n",
       "1            12          4          4           NaN        1   91.67  2012  \n",
       "2             4          2          2           NaN       15   89.50  2012  \n",
       "3            16         16         11           NaN       50   86.17  2012  \n",
       "4            37         22         22           NaN       18   85.21  2012  "
      ]
     },
     "execution_count": 21,
     "metadata": {},
     "output_type": "execute_result"
    }
   ],
   "source": [
    "import pandas as pd\n",
    "import numpy as np\n",
    "df = pd.read_csv('datasets/cwurData.csv')\n",
    "df.head()"
   ]
  },
  {
   "cell_type": "code",
   "execution_count": 22,
   "metadata": {},
   "outputs": [
    {
     "data": {
      "text/html": [
       "<div>\n",
       "<style scoped>\n",
       "    .dataframe tbody tr th:only-of-type {\n",
       "        vertical-align: middle;\n",
       "    }\n",
       "\n",
       "    .dataframe tbody tr th {\n",
       "        vertical-align: top;\n",
       "    }\n",
       "\n",
       "    .dataframe thead th {\n",
       "        text-align: right;\n",
       "    }\n",
       "</style>\n",
       "<table border=\"1\" class=\"dataframe\">\n",
       "  <thead>\n",
       "    <tr style=\"text-align: right;\">\n",
       "      <th></th>\n",
       "      <th>country</th>\n",
       "      <th>Argentina</th>\n",
       "      <th>Australia</th>\n",
       "      <th>Austria</th>\n",
       "      <th>Belgium</th>\n",
       "      <th>Brazil</th>\n",
       "      <th>Bulgaria</th>\n",
       "      <th>Canada</th>\n",
       "      <th>Chile</th>\n",
       "      <th>China</th>\n",
       "      <th>Colombia</th>\n",
       "      <th>...</th>\n",
       "      <th>Switzerland</th>\n",
       "      <th>Taiwan</th>\n",
       "      <th>Thailand</th>\n",
       "      <th>Turkey</th>\n",
       "      <th>USA</th>\n",
       "      <th>Uganda</th>\n",
       "      <th>United Arab Emirates</th>\n",
       "      <th>United Kingdom</th>\n",
       "      <th>Uruguay</th>\n",
       "      <th>All</th>\n",
       "    </tr>\n",
       "    <tr>\n",
       "      <th></th>\n",
       "      <th>Rank_Level</th>\n",
       "      <th></th>\n",
       "      <th></th>\n",
       "      <th></th>\n",
       "      <th></th>\n",
       "      <th></th>\n",
       "      <th></th>\n",
       "      <th></th>\n",
       "      <th></th>\n",
       "      <th></th>\n",
       "      <th></th>\n",
       "      <th></th>\n",
       "      <th></th>\n",
       "      <th></th>\n",
       "      <th></th>\n",
       "      <th></th>\n",
       "      <th></th>\n",
       "      <th></th>\n",
       "      <th></th>\n",
       "      <th></th>\n",
       "      <th></th>\n",
       "      <th></th>\n",
       "    </tr>\n",
       "  </thead>\n",
       "  <tbody>\n",
       "    <tr>\n",
       "      <th rowspan=\"5\" valign=\"top\">mean</th>\n",
       "      <th>First Tier Top Unversity</th>\n",
       "      <td>NaN</td>\n",
       "      <td>47.942500</td>\n",
       "      <td>NaN</td>\n",
       "      <td>51.875000</td>\n",
       "      <td>NaN</td>\n",
       "      <td>NaN</td>\n",
       "      <td>53.633846</td>\n",
       "      <td>NaN</td>\n",
       "      <td>53.592500</td>\n",
       "      <td>NaN</td>\n",
       "      <td>...</td>\n",
       "      <td>54.005000</td>\n",
       "      <td>54.210000</td>\n",
       "      <td>NaN</td>\n",
       "      <td>NaN</td>\n",
       "      <td>61.066726</td>\n",
       "      <td>NaN</td>\n",
       "      <td>NaN</td>\n",
       "      <td>63.937931</td>\n",
       "      <td>NaN</td>\n",
       "      <td>58.350675</td>\n",
       "    </tr>\n",
       "    <tr>\n",
       "      <th>Other Top Unversity</th>\n",
       "      <td>44.672857</td>\n",
       "      <td>44.645750</td>\n",
       "      <td>44.864286</td>\n",
       "      <td>45.081000</td>\n",
       "      <td>44.499706</td>\n",
       "      <td>44.335</td>\n",
       "      <td>44.760541</td>\n",
       "      <td>44.7675</td>\n",
       "      <td>44.564267</td>\n",
       "      <td>44.4325</td>\n",
       "      <td>...</td>\n",
       "      <td>44.625000</td>\n",
       "      <td>44.476667</td>\n",
       "      <td>44.830000</td>\n",
       "      <td>44.481</td>\n",
       "      <td>44.871718</td>\n",
       "      <td>44.28</td>\n",
       "      <td>44.22</td>\n",
       "      <td>44.881299</td>\n",
       "      <td>44.255</td>\n",
       "      <td>44.738871</td>\n",
       "    </tr>\n",
       "    <tr>\n",
       "      <th>Second Tier Top Unversity</th>\n",
       "      <td>NaN</td>\n",
       "      <td>49.242500</td>\n",
       "      <td>NaN</td>\n",
       "      <td>49.084000</td>\n",
       "      <td>49.565000</td>\n",
       "      <td>NaN</td>\n",
       "      <td>49.218182</td>\n",
       "      <td>NaN</td>\n",
       "      <td>47.868000</td>\n",
       "      <td>NaN</td>\n",
       "      <td>...</td>\n",
       "      <td>48.184000</td>\n",
       "      <td>NaN</td>\n",
       "      <td>NaN</td>\n",
       "      <td>NaN</td>\n",
       "      <td>49.069524</td>\n",
       "      <td>NaN</td>\n",
       "      <td>NaN</td>\n",
       "      <td>48.957500</td>\n",
       "      <td>NaN</td>\n",
       "      <td>49.065450</td>\n",
       "    </tr>\n",
       "    <tr>\n",
       "      <th>Third Tier Top Unversity</th>\n",
       "      <td>NaN</td>\n",
       "      <td>47.285000</td>\n",
       "      <td>47.066667</td>\n",
       "      <td>46.746667</td>\n",
       "      <td>NaN</td>\n",
       "      <td>NaN</td>\n",
       "      <td>46.826364</td>\n",
       "      <td>NaN</td>\n",
       "      <td>46.926250</td>\n",
       "      <td>NaN</td>\n",
       "      <td>...</td>\n",
       "      <td>47.930000</td>\n",
       "      <td>47.065000</td>\n",
       "      <td>46.550000</td>\n",
       "      <td>NaN</td>\n",
       "      <td>46.818333</td>\n",
       "      <td>NaN</td>\n",
       "      <td>NaN</td>\n",
       "      <td>46.862273</td>\n",
       "      <td>NaN</td>\n",
       "      <td>46.843450</td>\n",
       "    </tr>\n",
       "    <tr>\n",
       "      <th>All</th>\n",
       "      <td>44.672857</td>\n",
       "      <td>45.825517</td>\n",
       "      <td>45.139583</td>\n",
       "      <td>47.011000</td>\n",
       "      <td>44.781111</td>\n",
       "      <td>44.335</td>\n",
       "      <td>47.359306</td>\n",
       "      <td>44.7675</td>\n",
       "      <td>44.992575</td>\n",
       "      <td>44.4325</td>\n",
       "      <td>...</td>\n",
       "      <td>51.208846</td>\n",
       "      <td>45.012391</td>\n",
       "      <td>45.116667</td>\n",
       "      <td>44.481</td>\n",
       "      <td>51.839860</td>\n",
       "      <td>44.28</td>\n",
       "      <td>44.22</td>\n",
       "      <td>49.474653</td>\n",
       "      <td>44.255</td>\n",
       "      <td>47.798395</td>\n",
       "    </tr>\n",
       "    <tr>\n",
       "      <th rowspan=\"5\" valign=\"top\">amax</th>\n",
       "      <th>First Tier Top Unversity</th>\n",
       "      <td>NaN</td>\n",
       "      <td>51.610000</td>\n",
       "      <td>NaN</td>\n",
       "      <td>52.030000</td>\n",
       "      <td>NaN</td>\n",
       "      <td>NaN</td>\n",
       "      <td>60.870000</td>\n",
       "      <td>NaN</td>\n",
       "      <td>55.300000</td>\n",
       "      <td>NaN</td>\n",
       "      <td>...</td>\n",
       "      <td>72.180000</td>\n",
       "      <td>54.230000</td>\n",
       "      <td>NaN</td>\n",
       "      <td>NaN</td>\n",
       "      <td>100.000000</td>\n",
       "      <td>NaN</td>\n",
       "      <td>NaN</td>\n",
       "      <td>97.640000</td>\n",
       "      <td>NaN</td>\n",
       "      <td>100.000000</td>\n",
       "    </tr>\n",
       "    <tr>\n",
       "      <th>Other Top Unversity</th>\n",
       "      <td>45.660000</td>\n",
       "      <td>45.970000</td>\n",
       "      <td>46.290000</td>\n",
       "      <td>46.210000</td>\n",
       "      <td>46.080000</td>\n",
       "      <td>44.480</td>\n",
       "      <td>45.740000</td>\n",
       "      <td>45.3300</td>\n",
       "      <td>45.920000</td>\n",
       "      <td>44.8500</td>\n",
       "      <td>...</td>\n",
       "      <td>45.050000</td>\n",
       "      <td>45.490000</td>\n",
       "      <td>45.860000</td>\n",
       "      <td>45.570</td>\n",
       "      <td>46.300000</td>\n",
       "      <td>44.40</td>\n",
       "      <td>44.36</td>\n",
       "      <td>46.300000</td>\n",
       "      <td>44.350</td>\n",
       "      <td>46.340000</td>\n",
       "    </tr>\n",
       "    <tr>\n",
       "      <th>Second Tier Top Unversity</th>\n",
       "      <td>NaN</td>\n",
       "      <td>50.400000</td>\n",
       "      <td>NaN</td>\n",
       "      <td>49.730000</td>\n",
       "      <td>49.820000</td>\n",
       "      <td>NaN</td>\n",
       "      <td>51.230000</td>\n",
       "      <td>NaN</td>\n",
       "      <td>48.140000</td>\n",
       "      <td>NaN</td>\n",
       "      <td>...</td>\n",
       "      <td>49.170000</td>\n",
       "      <td>NaN</td>\n",
       "      <td>NaN</td>\n",
       "      <td>NaN</td>\n",
       "      <td>51.270000</td>\n",
       "      <td>NaN</td>\n",
       "      <td>NaN</td>\n",
       "      <td>49.970000</td>\n",
       "      <td>NaN</td>\n",
       "      <td>51.290000</td>\n",
       "    </tr>\n",
       "    <tr>\n",
       "      <th>Third Tier Top Unversity</th>\n",
       "      <td>NaN</td>\n",
       "      <td>47.470000</td>\n",
       "      <td>47.780000</td>\n",
       "      <td>47.140000</td>\n",
       "      <td>NaN</td>\n",
       "      <td>NaN</td>\n",
       "      <td>47.690000</td>\n",
       "      <td>NaN</td>\n",
       "      <td>47.760000</td>\n",
       "      <td>NaN</td>\n",
       "      <td>...</td>\n",
       "      <td>47.930000</td>\n",
       "      <td>47.160000</td>\n",
       "      <td>46.550000</td>\n",
       "      <td>NaN</td>\n",
       "      <td>47.820000</td>\n",
       "      <td>NaN</td>\n",
       "      <td>NaN</td>\n",
       "      <td>47.740000</td>\n",
       "      <td>NaN</td>\n",
       "      <td>47.930000</td>\n",
       "    </tr>\n",
       "    <tr>\n",
       "      <th>All</th>\n",
       "      <td>45.660000</td>\n",
       "      <td>51.610000</td>\n",
       "      <td>47.780000</td>\n",
       "      <td>52.030000</td>\n",
       "      <td>49.820000</td>\n",
       "      <td>44.480</td>\n",
       "      <td>60.870000</td>\n",
       "      <td>45.3300</td>\n",
       "      <td>55.300000</td>\n",
       "      <td>44.8500</td>\n",
       "      <td>...</td>\n",
       "      <td>72.180000</td>\n",
       "      <td>54.230000</td>\n",
       "      <td>46.550000</td>\n",
       "      <td>45.570</td>\n",
       "      <td>100.000000</td>\n",
       "      <td>44.40</td>\n",
       "      <td>44.36</td>\n",
       "      <td>97.640000</td>\n",
       "      <td>44.350</td>\n",
       "      <td>100.000000</td>\n",
       "    </tr>\n",
       "  </tbody>\n",
       "</table>\n",
       "<p>10 rows × 60 columns</p>\n",
       "</div>"
      ],
      "text/plain": [
       "country                         Argentina  Australia    Austria    Belgium  \\\n",
       "     Rank_Level                                                              \n",
       "mean First Tier Top Unversity         NaN  47.942500        NaN  51.875000   \n",
       "     Other Top Unversity        44.672857  44.645750  44.864286  45.081000   \n",
       "     Second Tier Top Unversity        NaN  49.242500        NaN  49.084000   \n",
       "     Third Tier Top Unversity         NaN  47.285000  47.066667  46.746667   \n",
       "     All                        44.672857  45.825517  45.139583  47.011000   \n",
       "amax First Tier Top Unversity         NaN  51.610000        NaN  52.030000   \n",
       "     Other Top Unversity        45.660000  45.970000  46.290000  46.210000   \n",
       "     Second Tier Top Unversity        NaN  50.400000        NaN  49.730000   \n",
       "     Third Tier Top Unversity         NaN  47.470000  47.780000  47.140000   \n",
       "     All                        45.660000  51.610000  47.780000  52.030000   \n",
       "\n",
       "country                            Brazil  Bulgaria     Canada    Chile  \\\n",
       "     Rank_Level                                                           \n",
       "mean First Tier Top Unversity         NaN       NaN  53.633846      NaN   \n",
       "     Other Top Unversity        44.499706    44.335  44.760541  44.7675   \n",
       "     Second Tier Top Unversity  49.565000       NaN  49.218182      NaN   \n",
       "     Third Tier Top Unversity         NaN       NaN  46.826364      NaN   \n",
       "     All                        44.781111    44.335  47.359306  44.7675   \n",
       "amax First Tier Top Unversity         NaN       NaN  60.870000      NaN   \n",
       "     Other Top Unversity        46.080000    44.480  45.740000  45.3300   \n",
       "     Second Tier Top Unversity  49.820000       NaN  51.230000      NaN   \n",
       "     Third Tier Top Unversity         NaN       NaN  47.690000      NaN   \n",
       "     All                        49.820000    44.480  60.870000  45.3300   \n",
       "\n",
       "country                             China  Colombia  ...  Switzerland  \\\n",
       "     Rank_Level                                      ...                \n",
       "mean First Tier Top Unversity   53.592500       NaN  ...    54.005000   \n",
       "     Other Top Unversity        44.564267   44.4325  ...    44.625000   \n",
       "     Second Tier Top Unversity  47.868000       NaN  ...    48.184000   \n",
       "     Third Tier Top Unversity   46.926250       NaN  ...    47.930000   \n",
       "     All                        44.992575   44.4325  ...    51.208846   \n",
       "amax First Tier Top Unversity   55.300000       NaN  ...    72.180000   \n",
       "     Other Top Unversity        45.920000   44.8500  ...    45.050000   \n",
       "     Second Tier Top Unversity  48.140000       NaN  ...    49.170000   \n",
       "     Third Tier Top Unversity   47.760000       NaN  ...    47.930000   \n",
       "     All                        55.300000   44.8500  ...    72.180000   \n",
       "\n",
       "country                            Taiwan   Thailand  Turkey         USA  \\\n",
       "     Rank_Level                                                            \n",
       "mean First Tier Top Unversity   54.210000        NaN     NaN   61.066726   \n",
       "     Other Top Unversity        44.476667  44.830000  44.481   44.871718   \n",
       "     Second Tier Top Unversity        NaN        NaN     NaN   49.069524   \n",
       "     Third Tier Top Unversity   47.065000  46.550000     NaN   46.818333   \n",
       "     All                        45.012391  45.116667  44.481   51.839860   \n",
       "amax First Tier Top Unversity   54.230000        NaN     NaN  100.000000   \n",
       "     Other Top Unversity        45.490000  45.860000  45.570   46.300000   \n",
       "     Second Tier Top Unversity        NaN        NaN     NaN   51.270000   \n",
       "     Third Tier Top Unversity   47.160000  46.550000     NaN   47.820000   \n",
       "     All                        54.230000  46.550000  45.570  100.000000   \n",
       "\n",
       "country                         Uganda  United Arab Emirates  United Kingdom  \\\n",
       "     Rank_Level                                                                \n",
       "mean First Tier Top Unversity      NaN                   NaN       63.937931   \n",
       "     Other Top Unversity         44.28                 44.22       44.881299   \n",
       "     Second Tier Top Unversity     NaN                   NaN       48.957500   \n",
       "     Third Tier Top Unversity      NaN                   NaN       46.862273   \n",
       "     All                         44.28                 44.22       49.474653   \n",
       "amax First Tier Top Unversity      NaN                   NaN       97.640000   \n",
       "     Other Top Unversity         44.40                 44.36       46.300000   \n",
       "     Second Tier Top Unversity     NaN                   NaN       49.970000   \n",
       "     Third Tier Top Unversity      NaN                   NaN       47.740000   \n",
       "     All                         44.40                 44.36       97.640000   \n",
       "\n",
       "country                         Uruguay         All  \n",
       "     Rank_Level                                      \n",
       "mean First Tier Top Unversity       NaN   58.350675  \n",
       "     Other Top Unversity         44.255   44.738871  \n",
       "     Second Tier Top Unversity      NaN   49.065450  \n",
       "     Third Tier Top Unversity       NaN   46.843450  \n",
       "     All                         44.255   47.798395  \n",
       "amax First Tier Top Unversity       NaN  100.000000  \n",
       "     Other Top Unversity         44.350   46.340000  \n",
       "     Second Tier Top Unversity      NaN   51.290000  \n",
       "     Third Tier Top Unversity       NaN   47.930000  \n",
       "     All                         44.350  100.000000  \n",
       "\n",
       "[10 rows x 60 columns]"
      ]
     },
     "execution_count": 22,
     "metadata": {},
     "output_type": "execute_result"
    }
   ],
   "source": [
    "def create_category(ranking):\n",
    "    if (ranking >= 1) & (ranking <= 100):\n",
    "        return \"First Tier Top Unversity\"\n",
    "    elif (ranking >= 101) & (ranking <= 200):\n",
    "        return \"Second Tier Top Unversity\"\n",
    "    elif (ranking >= 201) & (ranking <= 300):\n",
    "        return \"Third Tier Top Unversity\"\n",
    "    return \"Other Top Unversity\"\n",
    "\n",
    "df['Rank_Level'] = df['world_rank'].apply(lambda x: create_category(x))\n",
    "\n",
    "new_df=df.pivot_table(values='score', index='country', columns='Rank_Level', aggfunc=[np.mean, np.max], \n",
    "               margins=True)\n",
    "\n",
    "# new_df.head()\n",
    "new_df.unstack().unstack()"
   ]
  },
  {
   "cell_type": "markdown",
   "metadata": {},
   "source": [
    "### Question 10"
   ]
  },
  {
   "cell_type": "markdown",
   "metadata": {},
   "source": [
    "![file](quiz4_q10.png)"
   ]
  },
  {
   "cell_type": "markdown",
   "metadata": {},
   "source": [
    "Consider the DataFrame df shown above. What will be the output (rounded to the nearest integer) when the following code related to df is executed:"
   ]
  },
  {
   "cell_type": "code",
   "execution_count": 23,
   "metadata": {},
   "outputs": [
    {
     "data": {
      "text/plain": [
       "30.0"
      ]
     },
     "execution_count": 23,
     "metadata": {},
     "output_type": "execute_result"
    }
   ],
   "source": [
    "df = pd.DataFrame([\n",
    "    {'Item':'item_1','Store':'A','Quantity sold':10},\n",
    "    {'Item':'item_1','Store':'B','Quantity sold':20},\n",
    "    {'Item':'item_1','Store':'C','Quantity sold':None},\n",
    "    {'Item':'item_2','Store':'A','Quantity sold':5},\n",
    "    {'Item':'item_2','Store':'B','Quantity sold':10},\n",
    "    {'Item':'item_2','Store':'C','Quantity sold':15}])\n",
    "\n",
    "\n",
    "df.groupby('Item').sum().iloc[0]['Quantity sold']"
   ]
  }
 ],
 "metadata": {
  "kernelspec": {
   "display_name": "regresionlineal",
   "language": "python",
   "name": "python3"
  },
  "language_info": {
   "codemirror_mode": {
    "name": "ipython",
    "version": 3
   },
   "file_extension": ".py",
   "mimetype": "text/x-python",
   "name": "python",
   "nbconvert_exporter": "python",
   "pygments_lexer": "ipython3",
   "version": "3.10.6"
  }
 },
 "nbformat": 4,
 "nbformat_minor": 2
}
